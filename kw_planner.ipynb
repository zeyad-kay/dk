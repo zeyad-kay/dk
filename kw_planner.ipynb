{
 "cells": [
  {
   "attachments": {},
   "cell_type": "markdown",
   "metadata": {},
   "source": [
    "# Cost per Click (CPC) Bid Minimization for Keywords"
   ]
  },
  {
   "attachments": {},
   "cell_type": "markdown",
   "metadata": {},
   "source": [
    "Google keyword planner provides forecasts like the expected impressions, clicks, and conversions for different keywords depending on the daily budget ***specified by the user***. Also, it provides the minimum and maximum ***top of page bids*** required for a given keyword. We used this data to determine the CPC for each keyword that ***minimizes the average CPC*** hence maximizing clicks given the budget. "
   ]
  },
  {
   "attachments": {},
   "cell_type": "markdown",
   "metadata": {},
   "source": [
    "![Google Keyword Planner](kw_planner.png \"Google Keyword Planner\")"
   ]
  },
  {
   "attachments": {},
   "cell_type": "markdown",
   "metadata": {},
   "source": [
    "We fit a regression model for each keyword that accurately defines the relationship between the daily budget and clicks:\n",
    "\n",
    "$$clicks_k = b_0 + b_1 * ln(budget) + b_2 * ln(budget)^2$$"
   ]
  },
  {
   "attachments": {},
   "cell_type": "markdown",
   "metadata": {},
   "source": [
    "Then we defined the objective function that we are trying to minimize:\n",
    "\n",
    "$${CPC_{avg}} = \\frac{1}{K} * \\sum_{k=0}^{K}{\\frac{budget_k}{clicks_k}}$$\n",
    "\n",
    "subject to:\n",
    "\n",
    "$$budget = \\sum_{k=0}^{K} budget_k = const$$\n",
    "$$bid_{min}^k \\leq \\frac{budget_k}{clicks_k} \\leq bid_{max}^k$$\n",
    "\n",
    "where \n",
    "\n",
    "K: Number of keywords\n",
    "\n",
    "bid: top of page bid"
   ]
  },
  {
   "attachments": {},
   "cell_type": "markdown",
   "metadata": {},
   "source": [
    "The objective function is subject to the following constraints:\n",
    "1. Sum of budgets is equal to the budget specified by the user. \n",
    "2. CPC for each keyword is between the minimum and maximum top of page bids provided by the keyword planner.\n",
    "\n",
    "We picked 4 keywords in the Weleda campaign, fitted a model for each one, and set a daily budget. Then, we minimized the objective function. The minimized function sets the ***minimum CPC*** for each keyword that ***maximizes the total clicks*** given the daily budget.\n",
    "\n",
    "The interpretation is that the models ***sets the CPC to the minimum top of page bid*** when the keyword ***saturates at a low number of clicks***."
   ]
  },
  {
   "attachments": {},
   "cell_type": "markdown",
   "metadata": {},
   "source": [
    "## Code"
   ]
  },
  {
   "cell_type": "code",
   "execution_count": 1,
   "metadata": {},
   "outputs": [],
   "source": [
    "import pandas as pd\n",
    "import numpy as np\n",
    "import matplotlib.pyplot as plt\n",
    "import sklearn as sk\n",
    "from sklearn.preprocessing import PolynomialFeatures\n",
    "from sklearn.linear_model import Ridge"
   ]
  },
  {
   "cell_type": "code",
   "execution_count": 2,
   "metadata": {},
   "outputs": [],
   "source": [
    "kw_lst=[\"weleda hair tonic.csv\",\"weleda sunscreen.csv\",\"weleda_solskydd.csv\",\"skinfood_weleda.csv\"]\n",
    "data_lst=[]"
   ]
  },
  {
   "cell_type": "code",
   "execution_count": 3,
   "metadata": {},
   "outputs": [],
   "source": [
    "for i in range(len(kw_lst)):\n",
    "    data = pd.read_csv(kw_lst[i])\n",
    "    data[\"daily_budget\"] = data[\"daily_budget\"].astype(float)\n",
    "    data[\"clicks\"] = data[\"clicks\"].astype(float)\n",
    "    data_lst.append(data)"
   ]
  },
  {
   "cell_type": "code",
   "execution_count": 5,
   "metadata": {},
   "outputs": [
    {
     "name": "stdout",
     "output_type": "stream",
     "text": [
      "Score: weleda hair tonic 0.9953490028219891\n",
      "Score: weleda sunscreen 0.9636586295859639\n",
      "Score: weleda_solskydd 0.994395205957459\n",
      "Score: skinfood_weleda 0.9954561225600115\n"
     ]
    }
   ],
   "source": [
    "coef_lst=[]\n",
    "interc_lst=[]\n",
    "for i,x in enumerate(data_lst):\n",
    "    poly=PolynomialFeatures(2)\n",
    "    #xpoly=poly.fit_transform(np.power(daily_data[[\"daily_budget\"]], 1/2.3))\n",
    "    xpoly=poly.fit_transform(np.log(x[[\"daily_budget\"]]))\n",
    "    model = Ridge(alpha=1, solver='lsqr')\n",
    "    model.fit(xpoly, x[\"clicks\"].values)\n",
    "    coef_lst.append(model.coef_[1:])\n",
    "    interc_lst.append(model.intercept_)\n",
    "    print(f\"Score: {kw_lst[i][:-4]}\", model.score(xpoly, x[\"clicks\"].values))\n",
    "\n",
    "coef_lst=np.array(coef_lst)\n",
    "interc_lst=np.array(interc_lst)"
   ]
  },
  {
   "cell_type": "code",
   "execution_count": 8,
   "metadata": {},
   "outputs": [],
   "source": [
    "import numpy as np\n",
    "import sympy as sp\n",
    "\n",
    "from scipy.optimize import fsolve\n",
    "from sympy import symbols, solve\n",
    "\n",
    "constr_cpc= np.array([[2.94,15.34],[1.74,4.76],[2.36,5.73],[1.73,4.55]])\n",
    "constr_cost=[]\n",
    "min_range=0\n",
    "max_range=0\n",
    "#solve(x*30.4/(coef_lst[0][1]*sp.log(0) + coef_lst[0][2]*sp.log(x)**2 +interc_lst[0]) - 15.34 , x)\n",
    "for i in range(len(data_lst)):\n",
    "    x = symbols('x')\n",
    "    func_np1 = sp.lambdify(x, x*30.4/(coef_lst[i][0]*sp.log(x) + coef_lst[i][0]*sp.log(x)**2 +interc_lst[i]) - constr_cpc[i][0], modules=['numpy'])\n",
    "    solution1 = np.ceil(fsolve(func_np1, 1))\n",
    "    min_range = min_range+solution1\n",
    "    func_np2 = sp.lambdify(x, x*30.4/(coef_lst[i][1]*sp.log(x) + coef_lst[i][1]*sp.log(x)**2 +interc_lst[i]) - constr_cpc[i][1], modules=['numpy'])    \n",
    "    solution2 = np.floor(fsolve(func_np2, 1))\n",
    "    max_range = max_range+solution2\n",
    "    constr_cost.append([np.round(solution1,2),np.round(solution2,2)])\n"
   ]
  },
  {
   "cell_type": "code",
   "execution_count": 18,
   "metadata": {},
   "outputs": [
    {
     "name": "stdout",
     "output_type": "stream",
     "text": [
      "Optimization terminated successfully    (Exit mode 0)\n",
      "            Current function value: 3.0719002946551965\n",
      "            Iterations: 16\n",
      "            Function evaluations: 80\n",
      "            Gradient evaluations: 16\n",
      "     fun: 3.0719002946551965\n",
      "     jac: array([0.2209934 , 0.50153971, 0.0879035 , 0.03637752])\n",
      " message: 'Optimization terminated successfully'\n",
      "    nfev: 80\n",
      "     nit: 16\n",
      "    njev: 16\n",
      "  status: 0\n",
      " success: True\n",
      "       x: array([ 1.36429715,  0.4968101 ,  4.74533468, 20.39355806])\n",
      "f(x0) = 6.172689589820775\n",
      "f(xmin) = 3.0719002946551965\n"
     ]
    }
   ],
   "source": [
    "def objective(x):\n",
    "  return np.sum(x*30.4/(coef_lst[:,0]*np.log(x) + coef_lst[:,1]*np.log(x)**2 +interc_lst)) / x.shape[0]\n",
    "\n",
    "DAILY_BUDGET = max_range  # daily sum\n",
    "constr = [{'type':'eq','fun': lambda x: np.sum(x) - DAILY_BUDGET}]\n",
    "\n",
    "def constraint_eqn(x, coef, intercpt, lim):\n",
    "  return (x*30.4/(coef[0]*np.log(x) + coef[1]*np.log(x)**2 +intercpt) - lim)\n",
    "\n",
    "for i in range(len(kw_lst)):\n",
    "  \n",
    "  def dummy(idx=i):\n",
    "    \"\"\"Dummy function to force the constraint equation to use the current value of i not the last.\n",
    "    \"\"\"\n",
    "    constr.append({'type':'ineq', 'fun': lambda x: constraint_eqn(x[idx], coef_lst[idx], interc_lst[idx], constr_cpc[idx][0])})\n",
    "    constr.append({'type':'ineq', 'fun': lambda x: -1 * constraint_eqn(x[idx], coef_lst[idx], interc_lst[idx], constr_cpc[idx][1])})\n",
    "  \n",
    "  dummy(i)\n",
    "  \n",
    "from scipy.optimize import minimize\n",
    "bnds = ((0,None),(0,None),(0,None),(0,None))\n",
    "init = constr_cpc[:,1]\n",
    "min=minimize(objective,init,constraints=constr,options={\"disp\":True},bounds=bnds)\n",
    "\n",
    "print(min)\n",
    "print(f\"f(x0) = {objective(init)}\")\n",
    "print(f\"f(xmin) = {objective(min['x'])}\")"
   ]
  }
 ],
 "metadata": {
  "kernelspec": {
   "display_name": "Python 3",
   "language": "python",
   "name": "python3"
  },
  "language_info": {
   "codemirror_mode": {
    "name": "ipython",
    "version": 3
   },
   "file_extension": ".py",
   "mimetype": "text/x-python",
   "name": "python",
   "nbconvert_exporter": "python",
   "pygments_lexer": "ipython3",
   "version": "3.7.0"
  },
  "orig_nbformat": 4
 },
 "nbformat": 4,
 "nbformat_minor": 2
}
