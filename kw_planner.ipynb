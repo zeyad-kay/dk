{
 "cells": [
  {
   "attachments": {},
   "cell_type": "markdown",
   "metadata": {},
   "source": [
    "# Optimizing Bids for Keywords"
   ]
  },
  {
   "attachments": {},
   "cell_type": "markdown",
   "metadata": {},
   "source": [
    "Google keyword planner provides forecasts like the expected impressions, clicks, and conversions for different keywords in a **certain timeframe** depending on the daily budget **specified by the user**. This forecasts are based on **historical data, usage patterns for users and trends** exhibited across google for these keywords and enables advertisers to predict metrics in a **specified timeframe**. Also, it provides the minimum and maximum **top of page bids** required for a given keyword **i.e.** bidding **10$** for a keyword with maximum top of page bid of **8$** **does not** lead to extra clicks. We used this data to determine how much to bid for each keyword while minimizing the average Cost per Click ($CPC_{avg}$) given the specified budget. Minimizing $CPC_{avg}$ leads to better usage of the budget leading to maximizing the clicks.\n",
    "\n",
    "By visualizing the forecasts from the keyword planner, we notice that keywords exhibit exponential growth and saturate at a certain daily budget which leads to the conclusion that after a certain point, bidding more does **not** lead to more clicks. By automating the process of setting the bids for each keyword, we achieve maximum utilization of the budget. Additionally, we can use this method for filtering out keywords that have bad conversion and suggesting ones that result in a high number of clicks."
   ]
  },
  {
   "attachments": {},
   "cell_type": "markdown",
   "metadata": {},
   "source": [
    "![Google Keyword Planner](kw_planner.png \"Google Keyword Planner\")"
   ]
  },
  {
   "attachments": {},
   "cell_type": "markdown",
   "metadata": {},
   "source": [
    "## Method"
   ]
  },
  {
   "attachments": {},
   "cell_type": "markdown",
   "metadata": {},
   "source": [
    "We formulate the relationship between the estimated number of clicks and the daily budget. After trying different polynomials that generalize well with different keywords we define the relationship between the daily budget and clicks as follows:\n",
    "\n",
    "$$clicks_k = b_{0k} + b_{1k} * ln(budget_k) + b_{2k} * ln(budget_k)^2$$"
   ]
  },
  {
   "attachments": {},
   "cell_type": "markdown",
   "metadata": {},
   "source": [
    "Then we define the objective function:\n",
    "\n",
    "$${CPC_{avg}} = \\frac{1}{K} * \\sum_{k=0}^{K}{\\frac{budget_k}{clicks_k}}$$\n",
    "\n",
    "subject to:\n",
    "\n",
    "$$budget = \\sum_{k=0}^{K} budget_k = const$$\n",
    "$$bid_{min}^k \\leq \\frac{budget_k}{clicks_k} \\leq bid_{max}^k$$\n",
    "\n",
    "where \n",
    "\n",
    "K: Number of keywords\n",
    "\n",
    "bid: top of page bid"
   ]
  },
  {
   "attachments": {},
   "cell_type": "markdown",
   "metadata": {},
   "source": [
    "The objective function is subject to the following constraints:\n",
    "1. Sum of budgets is equal to the budget specified by the user. \n",
    "2. CPC for each keyword is between the minimum and maximum top of page bids provided by the keyword planner.\n",
    "\n",
    "We picked 4 keywords in the Weleda campaign, fitted a model for each one **from 1 to 30 June**, and set a daily budget. Then, we minimized the objective function. The minimized function sets the optimal bid for each keyword that **minimzes $CPC_{avg}$** given the daily budget.\n",
    "\n",
    "As a sanity check, we set the budget to **27$**, and bids to the maximum top of page bid for each keyword. Then, we compared the initial CPC and clicks with the optimized ones.\n",
    "\n",
    "\n",
    "$$budget = 27$$\n",
    "$$bids_o = [15.34, 4.76, 5.73, 4.55]$$\n",
    "$$CPC_o = 6.17$$\n",
    "$$clicks_o = 186$$\n",
    "$$bids_{optimal} = [1.36, 0.5, 4.75, 20.39]$$\n",
    "$$CPC_{optimal} = 3.07$$\n",
    "$$clicks_{optimal} = 206$$\n",
    "\n",
    "The optimal bids result in a lower $CPC_{avg}$ and a higher number of clicks while making the budget constant. This leads to better utilization of the budget. By investigating graphs for each keyword, we notice that the $1^{st}$ keyword saturates quickly while the $4^{th}$ saturates at a higher number of clicks leading to indicating that there should be a higher allocation for the $4^{th}$ keyword than the $1^{st}$, which correctly the model does."
   ]
  },
  {
   "attachments": {},
   "cell_type": "markdown",
   "metadata": {},
   "source": [
    "## Code"
   ]
  },
  {
   "cell_type": "code",
   "execution_count": 1,
   "metadata": {},
   "outputs": [],
   "source": [
    "import pandas as pd\n",
    "import numpy as np\n",
    "import matplotlib.pyplot as plt\n",
    "import sklearn as sk\n",
    "from sklearn.preprocessing import PolynomialFeatures\n",
    "from sklearn.linear_model import Ridge"
   ]
  },
  {
   "cell_type": "code",
   "execution_count": 2,
   "metadata": {},
   "outputs": [],
   "source": [
    "kw_lst=[\"weleda hair tonic.csv\",\"weleda sunscreen.csv\",\"weleda_solskydd.csv\",\"skinfood_weleda.csv\"]\n",
    "data_lst=[]"
   ]
  },
  {
   "cell_type": "code",
   "execution_count": 3,
   "metadata": {},
   "outputs": [],
   "source": [
    "for i in range(len(kw_lst)):\n",
    "    data = pd.read_csv(kw_lst[i])\n",
    "    data[\"daily_budget\"] = data[\"daily_budget\"].astype(float)\n",
    "    data[\"clicks\"] = data[\"clicks\"].astype(float)\n",
    "    data_lst.append(data)"
   ]
  },
  {
   "cell_type": "code",
   "execution_count": 4,
   "metadata": {},
   "outputs": [
    {
     "name": "stdout",
     "output_type": "stream",
     "text": [
      "Score: weleda hair tonic 0.9953490028219891\n",
      "Score: weleda sunscreen 0.9636586295859639\n",
      "Score: weleda_solskydd 0.994395205957459\n",
      "Score: skinfood_weleda 0.9954561225600115\n"
     ]
    }
   ],
   "source": [
    "coef_lst=[]\n",
    "interc_lst=[]\n",
    "for i,x in enumerate(data_lst):\n",
    "    poly=PolynomialFeatures(2)\n",
    "    #xpoly=poly.fit_transform(np.power(daily_data[[\"daily_budget\"]], 1/2.3))\n",
    "    xpoly=poly.fit_transform(np.log(x[[\"daily_budget\"]]))\n",
    "    model = Ridge(alpha=1, solver='lsqr')\n",
    "    model.fit(xpoly, x[\"clicks\"].values)\n",
    "    coef_lst.append(model.coef_[1:])\n",
    "    interc_lst.append(model.intercept_)\n",
    "    print(f\"Score: {kw_lst[i][:-4]}\", model.score(xpoly, x[\"clicks\"].values))\n",
    "\n",
    "coef_lst=np.array(coef_lst)\n",
    "interc_lst=np.array(interc_lst)"
   ]
  },
  {
   "cell_type": "code",
   "execution_count": 5,
   "metadata": {},
   "outputs": [],
   "source": [
    "import numpy as np\n",
    "import sympy as sp\n",
    "from scipy.optimize import fsolve\n",
    "from sympy import symbols, solve\n",
    "\n",
    "constr_cpc= np.array([[2.94,15.34],[1.74,4.76],[2.36,5.73],[1.73,4.55]])\n",
    "constr_cost=[]\n",
    "min_range=0\n",
    "max_range=0\n",
    "#solve(x*30.4/(coef_lst[0][1]*sp.log(0) + coef_lst[0][2]*sp.log(x)**2 +interc_lst[0]) - 15.34 , x)\n",
    "for i in range(len(data_lst)):\n",
    "    x = symbols('x')\n",
    "    func_np1 = sp.lambdify(x, x*30.4/(coef_lst[i][0]*sp.log(x) + coef_lst[i][0]*sp.log(x)**2 +interc_lst[i]) - constr_cpc[i][0], modules=['numpy'])\n",
    "    solution1 = np.ceil(fsolve(func_np1, 1))\n",
    "    min_range = min_range+solution1\n",
    "    func_np2 = sp.lambdify(x, x*30.4/(coef_lst[i][1]*sp.log(x) + coef_lst[i][1]*sp.log(x)**2 +interc_lst[i]) - constr_cpc[i][1], modules=['numpy'])    \n",
    "    solution2 = np.floor(fsolve(func_np2, 1))\n",
    "    max_range = max_range+solution2\n",
    "    constr_cost.append([np.round(solution1,2),np.round(solution2,2)])\n"
   ]
  },
  {
   "cell_type": "code",
   "execution_count": 14,
   "metadata": {},
   "outputs": [
    {
     "name": "stdout",
     "output_type": "stream",
     "text": [
      "Optimization terminated successfully    (Exit mode 0)\n",
      "            Current function value: 3.0719002946551965\n",
      "            Iterations: 16\n",
      "            Function evaluations: 80\n",
      "            Gradient evaluations: 16\n",
      "x0 = [15.34  4.76  5.73  4.55], CPC_avg = 6.17, Clicks = 186.0\n",
      "xmin = [ 1.36  0.5   4.75 20.39], CPC_avg = 3.07, Clicks = 206.0\n"
     ]
    }
   ],
   "source": [
    "def objective(x):\n",
    "  return np.sum(x*30.4/(coef_lst[:,0]*np.log(x) + coef_lst[:,1]*np.log(x)**2 +interc_lst)) / x.shape[0]\n",
    "\n",
    "DAILY_BUDGET = max_range  # daily sum\n",
    "constr = [{'type':'eq','fun': lambda x: np.sum(x) - DAILY_BUDGET}]\n",
    "\n",
    "def constraint_eqn(x, coef, intercpt, lim):\n",
    "  return (x*30.4/(coef[0]*np.log(x) + coef[1]*np.log(x)**2 +intercpt) - lim)\n",
    "\n",
    "for i in range(len(kw_lst)):\n",
    "  \n",
    "  def dummy(idx=i):\n",
    "    \"\"\"Dummy function to force the constraint equation to use the current value of i not the last.\n",
    "    \"\"\"\n",
    "    constr.append({'type':'ineq', 'fun': lambda x: constraint_eqn(x[idx], coef_lst[idx], interc_lst[idx], constr_cpc[idx][0])})\n",
    "    constr.append({'type':'ineq', 'fun': lambda x: -1 * constraint_eqn(x[idx], coef_lst[idx], interc_lst[idx], constr_cpc[idx][1])})\n",
    "  \n",
    "  dummy(i)\n",
    "  \n",
    "from scipy.optimize import minimize\n",
    "bnds = ((0,None),(0,None),(0,None),(0,None))\n",
    "init = constr_cpc[:,1]\n",
    "min=minimize(objective,init,constraints=constr,options={\"disp\":True},bounds=bnds)\n",
    "\n",
    "# print(min)\n",
    "print(f\"x0 = {init}, CPC_avg = {objective(init).round(2)}, Clicks = {np.sum((coef_lst[:,0]*np.log(init) + coef_lst[:,1]*np.log(init)**2 + interc_lst)).round(0)}\")\n",
    "print(f\"xmin = {min['x'].round(2)}, CPC_avg = {objective(min['x']).round(2)}, Clicks = {np.sum((coef_lst[:,0]*np.log(min['x']) + coef_lst[:,1]*np.log(min['x'])**2 + interc_lst).round(0))}\")"
   ]
  },
  {
   "cell_type": "code",
   "execution_count": 10,
   "metadata": {},
   "outputs": [
    {
     "name": "stdout",
     "output_type": "stream",
     "text": [
      "Optimization terminated successfully    (Exit mode 0)\n",
      "            Current function value: -0.41327287689194525\n",
      "            Iterations: 16\n",
      "            Function evaluations: 80\n",
      "            Gradient evaluations: 16\n",
      "     fun: -0.41327287689194525\n",
      "     jac: array([0.00064931, 0.16565587, 0.018216  , 0.0189864 ])\n",
      " message: 'Optimization terminated successfully'\n",
      "    nfev: 80\n",
      "     nit: 16\n",
      "    njev: 16\n",
      "  status: 0\n",
      " success: True\n",
      "       x: array([19.5832568 ,  0.4968101 ,  2.88917587,  4.03075723])\n",
      "f(x0) = 6.172689589820775\n",
      "f(xmin) = 4.7205538981131845\n"
     ]
    }
   ],
   "source": [
    "def objective(x):\n",
    "  return np.sum(-(coef_lst[:,0]*np.log(x) + coef_lst[:,1]*np.log(x)**2 +interc_lst)/(x*30.4)) / x.shape[0]\n",
    "\n",
    "DAILY_BUDGET = max_range  # daily sum\n",
    "constr = [{'type':'eq','fun': lambda x: np.sum(x) - DAILY_BUDGET}]\n",
    "\n",
    "def constraint_eqn(x, coef, intercpt, lim):\n",
    "  return (x*30.4/(coef[0]*np.log(x) + coef[1]*np.log(x)**2 +intercpt) - lim)\n",
    "\n",
    "for i in range(len(kw_lst)):\n",
    "  \n",
    "  def dummy(idx=i):\n",
    "    \"\"\"Dummy function to force the constraint equation to use the current value of i not the last.\n",
    "    \"\"\"\n",
    "    constr.append({'type':'ineq', 'fun': lambda x: constraint_eqn(x[idx], coef_lst[idx], interc_lst[idx], constr_cpc[idx][0])})\n",
    "    constr.append({'type':'ineq', 'fun': lambda x: -1 * constraint_eqn(x[idx], coef_lst[idx], interc_lst[idx], constr_cpc[idx][1])})\n",
    "  \n",
    "  dummy(i)\n",
    "  \n",
    "from scipy.optimize import minimize\n",
    "bnds = ((0,None),(0,None),(0,None),(0,None))\n",
    "init = constr_cpc[:,1]\n",
    "min=minimize(objective,init,constraints=constr,options={\"disp\":True},bounds=bnds)\n",
    "print(min)\n",
    "x = init\n",
    "print(f\"f(x0) = {np.sum((x*30.4)/(coef_lst[:,0]*np.log(x) + coef_lst[:,1]*np.log(x)**2 +interc_lst))/x.shape[0]}\")\n",
    "x =min['x']\n",
    "print(f\"f(xmin) = {np.sum((x*30.4)/(coef_lst[:,0]*np.log(x) + coef_lst[:,1]*np.log(x)**2 +interc_lst))/x.shape[0]}\")\n"
   ]
  }
 ],
 "metadata": {
  "kernelspec": {
   "display_name": "Python 3",
   "language": "python",
   "name": "python3"
  },
  "language_info": {
   "codemirror_mode": {
    "name": "ipython",
    "version": 3
   },
   "file_extension": ".py",
   "mimetype": "text/x-python",
   "name": "python",
   "nbconvert_exporter": "python",
   "pygments_lexer": "ipython3",
   "version": "3.7.0"
  },
  "orig_nbformat": 4
 },
 "nbformat": 4,
 "nbformat_minor": 2
}
